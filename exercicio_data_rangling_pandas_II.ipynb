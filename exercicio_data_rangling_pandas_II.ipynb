{
  "nbformat": 4,
  "nbformat_minor": 0,
  "metadata": {
    "colab": {
      "provenance": [],
      "authorship_tag": "ABX9TyPBfhIFWaB9M2OrfN8PHrpW",
      "include_colab_link": true
    },
    "kernelspec": {
      "name": "python3",
      "display_name": "Python 3"
    },
    "language_info": {
      "name": "python"
    }
  },
  "cells": [
    {
      "cell_type": "markdown",
      "metadata": {
        "id": "view-in-github",
        "colab_type": "text"
      },
      "source": [
        "<a href=\"https://colab.research.google.com/github/Coluno/data_rangling_pandas_II/blob/main/exercicio_data_rangling_pandas_II.ipynb\" target=\"_parent\"><img src=\"https://colab.research.google.com/assets/colab-badge.svg\" alt=\"Open In Colab\"/></a>"
      ]
    },
    {
      "cell_type": "markdown",
      "source": [
        "# **Preparando Ambiente**"
      ],
      "metadata": {
        "id": "uIMjKpzZpL1M"
      }
    },
    {
      "cell_type": "markdown",
      "source": [
        "Nesse exercicio irei trabalhar com dados geográficos, demográficos e econômicos do Brasil. irei manipular e combinar dados de duas frentes distintas para poder responder perguntas de negócios.\n",
        "\n",
        "---\n",
        "Irei carregar o arquivo estados_bruto.xml conténdo informações sobre estados (nome, sigla e região).\n",
        "\n",
        "\n",
        "---\n",
        "Irei carregar o arquivo cidades_bruto.csv conténdo informações demográficas e socioeconomicas das cidades do Brasil.\n"
      ],
      "metadata": {
        "id": "nQuUw0yZo0nP"
      }
    },
    {
      "cell_type": "markdown",
      "source": [
        "\n",
        "\n",
        "---\n",
        "\n"
      ],
      "metadata": {
        "id": "Pi0NcWash6qx"
      }
    },
    {
      "cell_type": "markdown",
      "source": [
        "# 1. Data Wrangling"
      ],
      "metadata": {
        "id": "pNb1KSlApBXK"
      }
    },
    {
      "cell_type": "markdown",
      "source": [
        "**1.1 Estados**"
      ],
      "metadata": {
        "id": "gdGiR9tApGx4"
      }
    },
    {
      "cell_type": "markdown",
      "source": [
        "Irei ultizar o pacote Python **beautifulsoup4** para extrair os dados do arquivo **estados_bruto.xml**. Irei salvar os dados extraidos no arquivo estados_limpo.csv separado por ; ."
      ],
      "metadata": {
        "id": "u8uW4TwDqxVn"
      }
    },
    {
      "cell_type": "code",
      "execution_count": null,
      "metadata": {
        "id": "QWbSSAfRnlvO",
        "colab": {
          "base_uri": "https://localhost:8080/"
        },
        "outputId": "d8a84f69-bb30-4b45-be77-a218c9743d1e"
      },
      "outputs": [
        {
          "output_type": "stream",
          "name": "stdout",
          "text": [
            "Dados extraidos e salvo em estados_limpo.csv\n"
          ]
        },
        {
          "output_type": "stream",
          "name": "stderr",
          "text": [
            "/usr/local/lib/python3.10/dist-packages/bs4/builder/__init__.py:545: XMLParsedAsHTMLWarning: It looks like you're parsing an XML document using an HTML parser. If this really is an HTML document (maybe it's XHTML?), you can ignore or filter this warning. If it's XML, you should know that using an XML parser will be more reliable. To parse this document as XML, make sure you have the lxml package installed, and pass the keyword argument `features=\"xml\"` into the BeautifulSoup constructor.\n",
            "  warnings.warn(\n"
          ]
        }
      ],
      "source": [
        "from bs4 import BeautifulSoup\n",
        "import csv\n",
        "\n",
        "arquivo_fonte = 'estados_bruto.xml'\n",
        "arquivo_limpo = 'estados_limpo.csv'\n",
        "\n",
        "#lendo arquivo estados_bruto.xml\n",
        "with open (arquivo_fonte, 'r',encoding= 'utf-8') as arquivo_xml:\n",
        "  fonte = BeautifulSoup(arquivo_xml, 'lxml')\n",
        "\n",
        "#extraindo e escrevendo no arquivo CSV\n",
        "with open (arquivo_limpo,'w', encoding = 'utf-8') as arquivo_csv:\n",
        "  escritor_csv = csv.writer(arquivo_csv, delimiter = ';')\n",
        "\n",
        "  #criando cabeçalho\n",
        "  escritor_csv.writerow(['estado', 'sigla', 'regiao'])\n",
        "\n",
        "  #Extraindo dados para cada um dos estados\n",
        "  for estado in fonte.find_all('estado'):\n",
        "    nome = estado.find('nome').text\n",
        "    sigla = estado.find('sigla').text\n",
        "    regiao = estado.find('regiao').text\n",
        "\n",
        "    #escrevendo o arquivo CSV\n",
        "    escritor_csv.writerow([nome, sigla, regiao])\n",
        "\n",
        "print(f'Dados extraidos e salvo em {arquivo_limpo}')"
      ]
    },
    {
      "cell_type": "code",
      "source": [
        "#print(fonte)"
      ],
      "metadata": {
        "id": "T7oPi7Sd0n5U"
      },
      "execution_count": null,
      "outputs": []
    },
    {
      "cell_type": "markdown",
      "source": [
        "Com isso podemos ler o arquivo de forma ordenada"
      ],
      "metadata": {
        "id": "kQXBBCX-02A8"
      }
    },
    {
      "cell_type": "code",
      "source": [
        "NOME_ARQUIVO_DESTINO = 'estados_limpo.csv'\n",
        "\n",
        "# Lê o arquivo CSV e o imprime\n",
        "with open(NOME_ARQUIVO_DESTINO, 'r', encoding='utf-8') as arquivo_csv:\n",
        "  conteudo_csv = arquivo_csv.read()\n",
        "  print(conteudo_csv)"
      ],
      "metadata": {
        "id": "8jYueOYTy3CH",
        "colab": {
          "base_uri": "https://localhost:8080/"
        },
        "outputId": "a485a65f-10c5-428e-841e-58c2c1ae4051"
      },
      "execution_count": null,
      "outputs": [
        {
          "output_type": "stream",
          "name": "stdout",
          "text": [
            "estado;sigla;regiao\n",
            "ACRE;AC;NORTE\n",
            "ALAGOAS;AL;NORDESTE\n",
            "AMAPA;AP;NORTE\n",
            "AMAZONAS;AM;NORTE\n",
            "BAHIA;BA;NORDESTE\n",
            "CEARA;CE;NORDESTE\n",
            "DISTRITO FEDERAL;DF;CENTRO-OESTE\n",
            "ESPIRITO SANTO;ES;SUDESTE\n",
            "GOIAS;GO;CENTRO-OESTE\n",
            "MARANHAO;MA;NORDESTE\n",
            "MATO GROSSO;MT;CENTRO-OESTE\n",
            "MATO GROSSO DO SUL;MS;CENTRO-OESTE\n",
            "PARA;PA;NORTE\n",
            "PARAIBA;PB;NORDESTE\n",
            "PARANA;PR;SUL\n",
            "PERNAMBUCO;PE;NORDESTE\n",
            "PIAUI;PI;NORDESTE\n",
            "RIO DE JANEIRO;RJ;SUDESTE\n",
            "RIO GRANDE DO NORTE;RN;NORDESTE\n",
            "RIO GRANDE DO SUL;RS;SUL\n",
            "RONDONIA;RO;NORTE\n",
            "RORAIMA;RR;NORTE\n",
            "SANTA CATARINA;SC;SUL\n",
            "SAO PAULO;SP;SUDESTE\n",
            "SERGIPE;SE;NORDESTE\n",
            "TOCANTINS;TO;NORTE\n",
            "MINAS GERAIS;MG;SUDESTE\n",
            "\n"
          ]
        }
      ]
    },
    {
      "cell_type": "markdown",
      "source": [
        "\n",
        "\n",
        "---\n",
        "\n"
      ],
      "metadata": {
        "id": "hWAamfM7h3xi"
      }
    },
    {
      "cell_type": "markdown",
      "source": [
        "**1.2 Cidades**"
      ],
      "metadata": {
        "id": "APijXdoIzKtN"
      }
    },
    {
      "cell_type": "markdown",
      "source": [
        "O arquivo `cidades_bruto.csv` contém informações demográficas e socioeconomicas das cidades do Brasil.Usarei o pacote Python `pandas` para extrair os dados do arquivo `cidades_bruto.xml`."
      ],
      "metadata": {
        "id": "bKS4qUktzNfg"
      }
    },
    {
      "cell_type": "markdown",
      "source": [
        "\n",
        "\n",
        "1.   Irei extrair apenas dados do censo de 2010\n",
        "2.   Para melhor leitura irei imprimir apenas as colunas UF, Nome, PIB, Pop_est_2009 e PIB_percapita e salvar em um arquivo **cidades_limpo.csv** separado por ;.\n",
        "\n"
      ],
      "metadata": {
        "id": "w2NR6CKczc4t"
      }
    },
    {
      "cell_type": "code",
      "source": [
        "import pandas as pd\n",
        "\n",
        "arquivo_cidade_fonte = 'cidades_bruto.csv'\n",
        "arquivo_cidade_limpo = 'cidades_limpo.csv'\n",
        "\n",
        "#lê o arquivo cidade_bruto\n",
        "fonte_df = pd.read_csv(arquivo_cidade_fonte)\n",
        "\n",
        "#Dados do censo de 2010\n",
        "fonte_limpa_df = fonte_df[fonte_df['Censo'] == 2010]\n",
        "\n",
        "#Seleciona apenas as colunas UF, Nome, PIB, Pop_est_2009 e PIB_percapita\n",
        "colunas_desejadas = ['UF', 'nome', 'PIB', 'Pop_est_2009', 'PIB_percapita']\n",
        "fonte_limpa_df = fonte_limpa_df[colunas_desejadas]\n",
        "\n",
        "# Salva os dados limpos no arquivo cidades_limpo.csv\n",
        "fonte_limpa_df.to_csv('cidades_limpo.csv', sep=';', index=False)\n",
        "\n",
        "print(f'Dados extraídos com sucesso e salvos em {arquivo_cidade_limpo}.')"
      ],
      "metadata": {
        "id": "0XXh9YqCTLEd",
        "colab": {
          "base_uri": "https://localhost:8080/"
        },
        "outputId": "a2f3b68b-a199-4f72-ac01-dc1f5f2f52f3"
      },
      "execution_count": null,
      "outputs": [
        {
          "output_type": "stream",
          "name": "stdout",
          "text": [
            "Dados extraídos com sucesso e salvos em cidades_limpo.csv.\n"
          ]
        }
      ]
    },
    {
      "cell_type": "markdown",
      "source": [
        "Agora os dados foram limpos conforme nossa escolha"
      ],
      "metadata": {
        "id": "eyJLSDT0Uo-O"
      }
    },
    {
      "cell_type": "code",
      "source": [
        "arquivo_cidade_limpo = 'cidades_limpo.csv'\n",
        "\n",
        "# Lê o arquivo CSV e o imprime\n",
        "with open(arquivo_cidade_limpo, 'r', encoding='utf-8') as arquivo_csv:\n",
        "  conteudo_csv = arquivo_csv.read()\n",
        "  print('conteudo limpo e salvo em cidades_limpo.csv')"
      ],
      "metadata": {
        "id": "YajSWAubUa9m",
        "colab": {
          "base_uri": "https://localhost:8080/"
        },
        "outputId": "e68558e5-f502-45be-ef9c-bd63e049b41b"
      },
      "execution_count": null,
      "outputs": [
        {
          "output_type": "stream",
          "name": "stdout",
          "text": [
            "conteudo limpo e salvo em cidades_limpo.csv\n"
          ]
        }
      ]
    },
    {
      "cell_type": "code",
      "source": [
        "#print(conteudo_csv)"
      ],
      "metadata": {
        "id": "CT3f-l6QlwVO"
      },
      "execution_count": null,
      "outputs": []
    },
    {
      "cell_type": "markdown",
      "source": [
        "\n",
        "\n",
        "---\n",
        "\n"
      ],
      "metadata": {
        "id": "OXTuVVNJh1u4"
      }
    },
    {
      "cell_type": "markdown",
      "source": [
        "# **1.3. Brasil**"
      ],
      "metadata": {
        "id": "kQp1jd7bVJeC"
      }
    },
    {
      "cell_type": "markdown",
      "source": [
        "Irei utilizar o `pandas` para combinar os dados do arquivo `estados_limpo.csv` com os dados do arquivo `cidades_limpo.csv` em um único dataframe. Porém o criterio dessa seleção: Irei escolher a coluna e o método de combinação de tal forma que **não haja perda de dados** no processo (não produzirá valores nulos `NaN`). Depois irei salvar os dados do dataframe no arquivo `brasil.csv`"
      ],
      "metadata": {
        "id": "z7nqB3_tVMaa"
      }
    },
    {
      "cell_type": "markdown",
      "source": [
        "Precisa instalar a biblioteca unidecode: pip install unidecode"
      ],
      "metadata": {
        "id": "4PHVu0K7vk7h"
      }
    },
    {
      "cell_type": "code",
      "source": [
        "from unidecode import unidecode\n",
        "\n",
        "#função para remover os acentos de alguns estados, evitando erros no dataframe\n",
        "def remover_acentos(texto):\n",
        "  return unidecode(texto)"
      ],
      "metadata": {
        "id": "YKbQRPrdVr_P"
      },
      "execution_count": null,
      "outputs": []
    },
    {
      "cell_type": "code",
      "source": [
        "import pandas as pd\n",
        "\n",
        "# Leitura dos dataframes dos arquivos CSV\n",
        "estados_df = pd.read_csv('estados_limpo.csv', delimiter=';')\n",
        "cidades_df = pd.read_csv('cidades_limpo.csv', delimiter=';')\n",
        "\n",
        "estados_df['estado'] = estados_df['estado'].apply(remover_acentos)\n",
        "cidades_df['UF'] = cidades_df['UF'].apply(remover_acentos)\n",
        "\n",
        "# Combinação dos dataframes sem coluna de chave específica (concatenação ao longo das linhas)\n",
        "brasil_df = pd.merge(cidades_df, estados_df, left_on = 'UF', right_on = 'estado')\n",
        "\n",
        "# Salva os dados combinados no arquivo brasil.csv\n",
        "brasil_df.to_csv('brasil.csv', index=False, sep=';')\n",
        "\n",
        "print(\"Dados combinados e salvos em brasil.csv.\")"
      ],
      "metadata": {
        "id": "gfwWO8pIg0vN",
        "colab": {
          "base_uri": "https://localhost:8080/"
        },
        "outputId": "214eb199-69fb-4ae1-997d-bb93d5872079"
      },
      "execution_count": null,
      "outputs": [
        {
          "output_type": "stream",
          "name": "stdout",
          "text": [
            "Dados combinados e salvos em brasil.csv.\n"
          ]
        }
      ]
    },
    {
      "cell_type": "code",
      "source": [
        "#Removendo a coluna UF pois ja tem uma coluna 'estado'\n",
        "brasil_df.drop('UF',axis = 1, inplace = True)"
      ],
      "metadata": {
        "id": "twuNCpGcMef-"
      },
      "execution_count": null,
      "outputs": []
    },
    {
      "cell_type": "code",
      "source": [
        "brasil_df.columns"
      ],
      "metadata": {
        "id": "5T5kDnNzM0LG",
        "colab": {
          "base_uri": "https://localhost:8080/"
        },
        "outputId": "c482193e-a0b1-4dcc-f53f-f0c3363c5837"
      },
      "execution_count": null,
      "outputs": [
        {
          "output_type": "execute_result",
          "data": {
            "text/plain": [
              "Index(['nome', 'PIB', 'Pop_est_2009', 'PIB_percapita', 'estado', 'sigla',\n",
              "       'regiao'],\n",
              "      dtype='object')"
            ]
          },
          "metadata": {},
          "execution_count": 69
        }
      ]
    },
    {
      "cell_type": "code",
      "source": [
        "#Verificando se todos os dados foram guardados\n",
        "brasil_df['sigla'].value_counts()"
      ],
      "metadata": {
        "id": "TQOdYtWWP3os",
        "colab": {
          "base_uri": "https://localhost:8080/"
        },
        "outputId": "a37c4237-8633-4c21-961a-f9e19fb00498"
      },
      "execution_count": null,
      "outputs": [
        {
          "output_type": "execute_result",
          "data": {
            "text/plain": [
              "MG    853\n",
              "SP    642\n",
              "RS    496\n",
              "BA    416\n",
              "PR    399\n",
              "SC    293\n",
              "GO    246\n",
              "PI    224\n",
              "PB    223\n",
              "MA    216\n",
              "CE    184\n",
              "PE    183\n",
              "RN    167\n",
              "PA    143\n",
              "TO    139\n",
              "MT    138\n",
              "AL    102\n",
              "RJ     92\n",
              "ES     78\n",
              "MS     78\n",
              "SE     75\n",
              "AM     62\n",
              "RO     52\n",
              "AC     22\n",
              "AP     16\n",
              "RR     15\n",
              "DF      1\n",
              "Name: sigla, dtype: int64"
            ]
          },
          "metadata": {},
          "execution_count": 70
        }
      ]
    },
    {
      "cell_type": "markdown",
      "source": [
        "As cidades agora estão organizado com seus respectivos estados."
      ],
      "metadata": {
        "id": "nLsOZ_1Qke7d"
      }
    },
    {
      "cell_type": "markdown",
      "source": [
        "\n",
        "\n",
        "---\n",
        "\n"
      ],
      "metadata": {
        "id": "oCrcurxQhkmR"
      }
    },
    {
      "cell_type": "markdown",
      "source": [
        "# 2 Data Analytics"
      ],
      "metadata": {
        "id": "tV8zD01-lRX5"
      }
    },
    {
      "cell_type": "markdown",
      "source": [
        "**2.1 Dataframe**"
      ],
      "metadata": {
        "id": "rwAbm2FSlWte"
      }
    },
    {
      "cell_type": "markdown",
      "source": [
        "Ultilizando o pacote python para carregar o arquivo brasil.csv no dataframe 'brasil_df"
      ],
      "metadata": {
        "id": "Ib68IlrdmnaQ"
      }
    },
    {
      "cell_type": "code",
      "source": [
        "import pandas as pd\n",
        "\n",
        "# carrega o arquivo brasil.csv em um dataframe\n",
        "brasil_df =  pd.read_csv('brasil.csv', delimiter = ';')\n",
        "\n",
        "brasil_df.head()"
      ],
      "metadata": {
        "id": "AS-XvBLfm5bl",
        "colab": {
          "base_uri": "https://localhost:8080/",
          "height": 206
        },
        "outputId": "74a8f9ea-514f-4cc5-dac3-bc132c7a9892"
      },
      "execution_count": null,
      "outputs": [
        {
          "output_type": "execute_result",
          "data": {
            "text/plain": [
              "      UF                   nome           PIB  Pop_est_2009  PIB_percapita  \\\n",
              "0  BAHIA               Tremedal  57883.992188         18433    3140.239990   \n",
              "1  BAHIA               Maetinga  23558.447266          7884    2988.129883   \n",
              "2  BAHIA               Ibirapuã  74997.406250          7893    9501.759766   \n",
              "3  BAHIA  Governador Mangabeira  92903.820312         20668    4495.060059   \n",
              "4  BAHIA                Ibititá  62366.886719         19410    3213.129883   \n",
              "\n",
              "  estado sigla    regiao  \n",
              "0  BAHIA    BA  NORDESTE  \n",
              "1  BAHIA    BA  NORDESTE  \n",
              "2  BAHIA    BA  NORDESTE  \n",
              "3  BAHIA    BA  NORDESTE  \n",
              "4  BAHIA    BA  NORDESTE  "
            ],
            "text/html": [
              "\n",
              "  <div id=\"df-ec7fc350-7e76-4ed7-899b-323e857f37a0\" class=\"colab-df-container\">\n",
              "    <div>\n",
              "<style scoped>\n",
              "    .dataframe tbody tr th:only-of-type {\n",
              "        vertical-align: middle;\n",
              "    }\n",
              "\n",
              "    .dataframe tbody tr th {\n",
              "        vertical-align: top;\n",
              "    }\n",
              "\n",
              "    .dataframe thead th {\n",
              "        text-align: right;\n",
              "    }\n",
              "</style>\n",
              "<table border=\"1\" class=\"dataframe\">\n",
              "  <thead>\n",
              "    <tr style=\"text-align: right;\">\n",
              "      <th></th>\n",
              "      <th>UF</th>\n",
              "      <th>nome</th>\n",
              "      <th>PIB</th>\n",
              "      <th>Pop_est_2009</th>\n",
              "      <th>PIB_percapita</th>\n",
              "      <th>estado</th>\n",
              "      <th>sigla</th>\n",
              "      <th>regiao</th>\n",
              "    </tr>\n",
              "  </thead>\n",
              "  <tbody>\n",
              "    <tr>\n",
              "      <th>0</th>\n",
              "      <td>BAHIA</td>\n",
              "      <td>Tremedal</td>\n",
              "      <td>57883.992188</td>\n",
              "      <td>18433</td>\n",
              "      <td>3140.239990</td>\n",
              "      <td>BAHIA</td>\n",
              "      <td>BA</td>\n",
              "      <td>NORDESTE</td>\n",
              "    </tr>\n",
              "    <tr>\n",
              "      <th>1</th>\n",
              "      <td>BAHIA</td>\n",
              "      <td>Maetinga</td>\n",
              "      <td>23558.447266</td>\n",
              "      <td>7884</td>\n",
              "      <td>2988.129883</td>\n",
              "      <td>BAHIA</td>\n",
              "      <td>BA</td>\n",
              "      <td>NORDESTE</td>\n",
              "    </tr>\n",
              "    <tr>\n",
              "      <th>2</th>\n",
              "      <td>BAHIA</td>\n",
              "      <td>Ibirapuã</td>\n",
              "      <td>74997.406250</td>\n",
              "      <td>7893</td>\n",
              "      <td>9501.759766</td>\n",
              "      <td>BAHIA</td>\n",
              "      <td>BA</td>\n",
              "      <td>NORDESTE</td>\n",
              "    </tr>\n",
              "    <tr>\n",
              "      <th>3</th>\n",
              "      <td>BAHIA</td>\n",
              "      <td>Governador Mangabeira</td>\n",
              "      <td>92903.820312</td>\n",
              "      <td>20668</td>\n",
              "      <td>4495.060059</td>\n",
              "      <td>BAHIA</td>\n",
              "      <td>BA</td>\n",
              "      <td>NORDESTE</td>\n",
              "    </tr>\n",
              "    <tr>\n",
              "      <th>4</th>\n",
              "      <td>BAHIA</td>\n",
              "      <td>Ibititá</td>\n",
              "      <td>62366.886719</td>\n",
              "      <td>19410</td>\n",
              "      <td>3213.129883</td>\n",
              "      <td>BAHIA</td>\n",
              "      <td>BA</td>\n",
              "      <td>NORDESTE</td>\n",
              "    </tr>\n",
              "  </tbody>\n",
              "</table>\n",
              "</div>\n",
              "    <div class=\"colab-df-buttons\">\n",
              "\n",
              "  <div class=\"colab-df-container\">\n",
              "    <button class=\"colab-df-convert\" onclick=\"convertToInteractive('df-ec7fc350-7e76-4ed7-899b-323e857f37a0')\"\n",
              "            title=\"Convert this dataframe to an interactive table.\"\n",
              "            style=\"display:none;\">\n",
              "\n",
              "  <svg xmlns=\"http://www.w3.org/2000/svg\" height=\"24px\" viewBox=\"0 -960 960 960\">\n",
              "    <path d=\"M120-120v-720h720v720H120Zm60-500h600v-160H180v160Zm220 220h160v-160H400v160Zm0 220h160v-160H400v160ZM180-400h160v-160H180v160Zm440 0h160v-160H620v160ZM180-180h160v-160H180v160Zm440 0h160v-160H620v160Z\"/>\n",
              "  </svg>\n",
              "    </button>\n",
              "\n",
              "  <style>\n",
              "    .colab-df-container {\n",
              "      display:flex;\n",
              "      gap: 12px;\n",
              "    }\n",
              "\n",
              "    .colab-df-convert {\n",
              "      background-color: #E8F0FE;\n",
              "      border: none;\n",
              "      border-radius: 50%;\n",
              "      cursor: pointer;\n",
              "      display: none;\n",
              "      fill: #1967D2;\n",
              "      height: 32px;\n",
              "      padding: 0 0 0 0;\n",
              "      width: 32px;\n",
              "    }\n",
              "\n",
              "    .colab-df-convert:hover {\n",
              "      background-color: #E2EBFA;\n",
              "      box-shadow: 0px 1px 2px rgba(60, 64, 67, 0.3), 0px 1px 3px 1px rgba(60, 64, 67, 0.15);\n",
              "      fill: #174EA6;\n",
              "    }\n",
              "\n",
              "    .colab-df-buttons div {\n",
              "      margin-bottom: 4px;\n",
              "    }\n",
              "\n",
              "    [theme=dark] .colab-df-convert {\n",
              "      background-color: #3B4455;\n",
              "      fill: #D2E3FC;\n",
              "    }\n",
              "\n",
              "    [theme=dark] .colab-df-convert:hover {\n",
              "      background-color: #434B5C;\n",
              "      box-shadow: 0px 1px 3px 1px rgba(0, 0, 0, 0.15);\n",
              "      filter: drop-shadow(0px 1px 2px rgba(0, 0, 0, 0.3));\n",
              "      fill: #FFFFFF;\n",
              "    }\n",
              "  </style>\n",
              "\n",
              "    <script>\n",
              "      const buttonEl =\n",
              "        document.querySelector('#df-ec7fc350-7e76-4ed7-899b-323e857f37a0 button.colab-df-convert');\n",
              "      buttonEl.style.display =\n",
              "        google.colab.kernel.accessAllowed ? 'block' : 'none';\n",
              "\n",
              "      async function convertToInteractive(key) {\n",
              "        const element = document.querySelector('#df-ec7fc350-7e76-4ed7-899b-323e857f37a0');\n",
              "        const dataTable =\n",
              "          await google.colab.kernel.invokeFunction('convertToInteractive',\n",
              "                                                    [key], {});\n",
              "        if (!dataTable) return;\n",
              "\n",
              "        const docLinkHtml = 'Like what you see? Visit the ' +\n",
              "          '<a target=\"_blank\" href=https://colab.research.google.com/notebooks/data_table.ipynb>data table notebook</a>'\n",
              "          + ' to learn more about interactive tables.';\n",
              "        element.innerHTML = '';\n",
              "        dataTable['output_type'] = 'display_data';\n",
              "        await google.colab.output.renderOutput(dataTable, element);\n",
              "        const docLink = document.createElement('div');\n",
              "        docLink.innerHTML = docLinkHtml;\n",
              "        element.appendChild(docLink);\n",
              "      }\n",
              "    </script>\n",
              "  </div>\n",
              "\n",
              "\n",
              "<div id=\"df-9b72db07-75c5-48bf-b5a8-7697728b79b1\">\n",
              "  <button class=\"colab-df-quickchart\" onclick=\"quickchart('df-9b72db07-75c5-48bf-b5a8-7697728b79b1')\"\n",
              "            title=\"Suggest charts\"\n",
              "            style=\"display:none;\">\n",
              "\n",
              "<svg xmlns=\"http://www.w3.org/2000/svg\" height=\"24px\"viewBox=\"0 0 24 24\"\n",
              "     width=\"24px\">\n",
              "    <g>\n",
              "        <path d=\"M19 3H5c-1.1 0-2 .9-2 2v14c0 1.1.9 2 2 2h14c1.1 0 2-.9 2-2V5c0-1.1-.9-2-2-2zM9 17H7v-7h2v7zm4 0h-2V7h2v10zm4 0h-2v-4h2v4z\"/>\n",
              "    </g>\n",
              "</svg>\n",
              "  </button>\n",
              "\n",
              "<style>\n",
              "  .colab-df-quickchart {\n",
              "      --bg-color: #E8F0FE;\n",
              "      --fill-color: #1967D2;\n",
              "      --hover-bg-color: #E2EBFA;\n",
              "      --hover-fill-color: #174EA6;\n",
              "      --disabled-fill-color: #AAA;\n",
              "      --disabled-bg-color: #DDD;\n",
              "  }\n",
              "\n",
              "  [theme=dark] .colab-df-quickchart {\n",
              "      --bg-color: #3B4455;\n",
              "      --fill-color: #D2E3FC;\n",
              "      --hover-bg-color: #434B5C;\n",
              "      --hover-fill-color: #FFFFFF;\n",
              "      --disabled-bg-color: #3B4455;\n",
              "      --disabled-fill-color: #666;\n",
              "  }\n",
              "\n",
              "  .colab-df-quickchart {\n",
              "    background-color: var(--bg-color);\n",
              "    border: none;\n",
              "    border-radius: 50%;\n",
              "    cursor: pointer;\n",
              "    display: none;\n",
              "    fill: var(--fill-color);\n",
              "    height: 32px;\n",
              "    padding: 0;\n",
              "    width: 32px;\n",
              "  }\n",
              "\n",
              "  .colab-df-quickchart:hover {\n",
              "    background-color: var(--hover-bg-color);\n",
              "    box-shadow: 0 1px 2px rgba(60, 64, 67, 0.3), 0 1px 3px 1px rgba(60, 64, 67, 0.15);\n",
              "    fill: var(--button-hover-fill-color);\n",
              "  }\n",
              "\n",
              "  .colab-df-quickchart-complete:disabled,\n",
              "  .colab-df-quickchart-complete:disabled:hover {\n",
              "    background-color: var(--disabled-bg-color);\n",
              "    fill: var(--disabled-fill-color);\n",
              "    box-shadow: none;\n",
              "  }\n",
              "\n",
              "  .colab-df-spinner {\n",
              "    border: 2px solid var(--fill-color);\n",
              "    border-color: transparent;\n",
              "    border-bottom-color: var(--fill-color);\n",
              "    animation:\n",
              "      spin 1s steps(1) infinite;\n",
              "  }\n",
              "\n",
              "  @keyframes spin {\n",
              "    0% {\n",
              "      border-color: transparent;\n",
              "      border-bottom-color: var(--fill-color);\n",
              "      border-left-color: var(--fill-color);\n",
              "    }\n",
              "    20% {\n",
              "      border-color: transparent;\n",
              "      border-left-color: var(--fill-color);\n",
              "      border-top-color: var(--fill-color);\n",
              "    }\n",
              "    30% {\n",
              "      border-color: transparent;\n",
              "      border-left-color: var(--fill-color);\n",
              "      border-top-color: var(--fill-color);\n",
              "      border-right-color: var(--fill-color);\n",
              "    }\n",
              "    40% {\n",
              "      border-color: transparent;\n",
              "      border-right-color: var(--fill-color);\n",
              "      border-top-color: var(--fill-color);\n",
              "    }\n",
              "    60% {\n",
              "      border-color: transparent;\n",
              "      border-right-color: var(--fill-color);\n",
              "    }\n",
              "    80% {\n",
              "      border-color: transparent;\n",
              "      border-right-color: var(--fill-color);\n",
              "      border-bottom-color: var(--fill-color);\n",
              "    }\n",
              "    90% {\n",
              "      border-color: transparent;\n",
              "      border-bottom-color: var(--fill-color);\n",
              "    }\n",
              "  }\n",
              "</style>\n",
              "\n",
              "  <script>\n",
              "    async function quickchart(key) {\n",
              "      const quickchartButtonEl =\n",
              "        document.querySelector('#' + key + ' button');\n",
              "      quickchartButtonEl.disabled = true;  // To prevent multiple clicks.\n",
              "      quickchartButtonEl.classList.add('colab-df-spinner');\n",
              "      try {\n",
              "        const charts = await google.colab.kernel.invokeFunction(\n",
              "            'suggestCharts', [key], {});\n",
              "      } catch (error) {\n",
              "        console.error('Error during call to suggestCharts:', error);\n",
              "      }\n",
              "      quickchartButtonEl.classList.remove('colab-df-spinner');\n",
              "      quickchartButtonEl.classList.add('colab-df-quickchart-complete');\n",
              "    }\n",
              "    (() => {\n",
              "      let quickchartButtonEl =\n",
              "        document.querySelector('#df-9b72db07-75c5-48bf-b5a8-7697728b79b1 button');\n",
              "      quickchartButtonEl.style.display =\n",
              "        google.colab.kernel.accessAllowed ? 'block' : 'none';\n",
              "    })();\n",
              "  </script>\n",
              "</div>\n",
              "\n",
              "    </div>\n",
              "  </div>\n"
            ]
          },
          "metadata": {},
          "execution_count": 71
        }
      ]
    },
    {
      "cell_type": "markdown",
      "source": [
        "**2.2. Analise**"
      ],
      "metadata": {
        "id": "60Pvln5UnmoK"
      }
    },
    {
      "cell_type": "markdown",
      "source": [
        " - Quais são as 10 cidades mais populosas do Brasil?"
      ],
      "metadata": {
        "id": "KDDXeFAsnpqi"
      }
    },
    {
      "cell_type": "code",
      "source": [
        "top_10_cidades_populosas = brasil_df.sort_values('Pop_est_2009', ascending = False).head(10)\n",
        "\n",
        "top_10_cidades_populosas[['nome','Pop_est_2009']]"
      ],
      "metadata": {
        "id": "DUBy8I2OnrnR",
        "colab": {
          "base_uri": "https://localhost:8080/",
          "height": 363
        },
        "outputId": "b6112a2c-362b-40e3-fc4c-4169b239823a"
      },
      "execution_count": null,
      "outputs": [
        {
          "output_type": "execute_result",
          "data": {
            "text/plain": [
              "                nome  Pop_est_2009\n",
              "3271       São Paulo      11037593\n",
              "4504  Rio de Janeiro       6186710\n",
              "44          Salvador       2998056\n",
              "5554        Brasília       2606885\n",
              "4221       Fortaleza       2505552\n",
              "1735  Belo Horizonte       2452617\n",
              "4849        Curitiba       1851215\n",
              "3720          Manaus       1738641\n",
              "2435          Recife       1561659\n",
              "2624           Belém       1437600"
            ],
            "text/html": [
              "\n",
              "  <div id=\"df-a5f8c6d7-baa2-4276-b235-c3c500967249\" class=\"colab-df-container\">\n",
              "    <div>\n",
              "<style scoped>\n",
              "    .dataframe tbody tr th:only-of-type {\n",
              "        vertical-align: middle;\n",
              "    }\n",
              "\n",
              "    .dataframe tbody tr th {\n",
              "        vertical-align: top;\n",
              "    }\n",
              "\n",
              "    .dataframe thead th {\n",
              "        text-align: right;\n",
              "    }\n",
              "</style>\n",
              "<table border=\"1\" class=\"dataframe\">\n",
              "  <thead>\n",
              "    <tr style=\"text-align: right;\">\n",
              "      <th></th>\n",
              "      <th>nome</th>\n",
              "      <th>Pop_est_2009</th>\n",
              "    </tr>\n",
              "  </thead>\n",
              "  <tbody>\n",
              "    <tr>\n",
              "      <th>3271</th>\n",
              "      <td>São Paulo</td>\n",
              "      <td>11037593</td>\n",
              "    </tr>\n",
              "    <tr>\n",
              "      <th>4504</th>\n",
              "      <td>Rio de Janeiro</td>\n",
              "      <td>6186710</td>\n",
              "    </tr>\n",
              "    <tr>\n",
              "      <th>44</th>\n",
              "      <td>Salvador</td>\n",
              "      <td>2998056</td>\n",
              "    </tr>\n",
              "    <tr>\n",
              "      <th>5554</th>\n",
              "      <td>Brasília</td>\n",
              "      <td>2606885</td>\n",
              "    </tr>\n",
              "    <tr>\n",
              "      <th>4221</th>\n",
              "      <td>Fortaleza</td>\n",
              "      <td>2505552</td>\n",
              "    </tr>\n",
              "    <tr>\n",
              "      <th>1735</th>\n",
              "      <td>Belo Horizonte</td>\n",
              "      <td>2452617</td>\n",
              "    </tr>\n",
              "    <tr>\n",
              "      <th>4849</th>\n",
              "      <td>Curitiba</td>\n",
              "      <td>1851215</td>\n",
              "    </tr>\n",
              "    <tr>\n",
              "      <th>3720</th>\n",
              "      <td>Manaus</td>\n",
              "      <td>1738641</td>\n",
              "    </tr>\n",
              "    <tr>\n",
              "      <th>2435</th>\n",
              "      <td>Recife</td>\n",
              "      <td>1561659</td>\n",
              "    </tr>\n",
              "    <tr>\n",
              "      <th>2624</th>\n",
              "      <td>Belém</td>\n",
              "      <td>1437600</td>\n",
              "    </tr>\n",
              "  </tbody>\n",
              "</table>\n",
              "</div>\n",
              "    <div class=\"colab-df-buttons\">\n",
              "\n",
              "  <div class=\"colab-df-container\">\n",
              "    <button class=\"colab-df-convert\" onclick=\"convertToInteractive('df-a5f8c6d7-baa2-4276-b235-c3c500967249')\"\n",
              "            title=\"Convert this dataframe to an interactive table.\"\n",
              "            style=\"display:none;\">\n",
              "\n",
              "  <svg xmlns=\"http://www.w3.org/2000/svg\" height=\"24px\" viewBox=\"0 -960 960 960\">\n",
              "    <path d=\"M120-120v-720h720v720H120Zm60-500h600v-160H180v160Zm220 220h160v-160H400v160Zm0 220h160v-160H400v160ZM180-400h160v-160H180v160Zm440 0h160v-160H620v160ZM180-180h160v-160H180v160Zm440 0h160v-160H620v160Z\"/>\n",
              "  </svg>\n",
              "    </button>\n",
              "\n",
              "  <style>\n",
              "    .colab-df-container {\n",
              "      display:flex;\n",
              "      gap: 12px;\n",
              "    }\n",
              "\n",
              "    .colab-df-convert {\n",
              "      background-color: #E8F0FE;\n",
              "      border: none;\n",
              "      border-radius: 50%;\n",
              "      cursor: pointer;\n",
              "      display: none;\n",
              "      fill: #1967D2;\n",
              "      height: 32px;\n",
              "      padding: 0 0 0 0;\n",
              "      width: 32px;\n",
              "    }\n",
              "\n",
              "    .colab-df-convert:hover {\n",
              "      background-color: #E2EBFA;\n",
              "      box-shadow: 0px 1px 2px rgba(60, 64, 67, 0.3), 0px 1px 3px 1px rgba(60, 64, 67, 0.15);\n",
              "      fill: #174EA6;\n",
              "    }\n",
              "\n",
              "    .colab-df-buttons div {\n",
              "      margin-bottom: 4px;\n",
              "    }\n",
              "\n",
              "    [theme=dark] .colab-df-convert {\n",
              "      background-color: #3B4455;\n",
              "      fill: #D2E3FC;\n",
              "    }\n",
              "\n",
              "    [theme=dark] .colab-df-convert:hover {\n",
              "      background-color: #434B5C;\n",
              "      box-shadow: 0px 1px 3px 1px rgba(0, 0, 0, 0.15);\n",
              "      filter: drop-shadow(0px 1px 2px rgba(0, 0, 0, 0.3));\n",
              "      fill: #FFFFFF;\n",
              "    }\n",
              "  </style>\n",
              "\n",
              "    <script>\n",
              "      const buttonEl =\n",
              "        document.querySelector('#df-a5f8c6d7-baa2-4276-b235-c3c500967249 button.colab-df-convert');\n",
              "      buttonEl.style.display =\n",
              "        google.colab.kernel.accessAllowed ? 'block' : 'none';\n",
              "\n",
              "      async function convertToInteractive(key) {\n",
              "        const element = document.querySelector('#df-a5f8c6d7-baa2-4276-b235-c3c500967249');\n",
              "        const dataTable =\n",
              "          await google.colab.kernel.invokeFunction('convertToInteractive',\n",
              "                                                    [key], {});\n",
              "        if (!dataTable) return;\n",
              "\n",
              "        const docLinkHtml = 'Like what you see? Visit the ' +\n",
              "          '<a target=\"_blank\" href=https://colab.research.google.com/notebooks/data_table.ipynb>data table notebook</a>'\n",
              "          + ' to learn more about interactive tables.';\n",
              "        element.innerHTML = '';\n",
              "        dataTable['output_type'] = 'display_data';\n",
              "        await google.colab.output.renderOutput(dataTable, element);\n",
              "        const docLink = document.createElement('div');\n",
              "        docLink.innerHTML = docLinkHtml;\n",
              "        element.appendChild(docLink);\n",
              "      }\n",
              "    </script>\n",
              "  </div>\n",
              "\n",
              "\n",
              "<div id=\"df-5ee98657-b4eb-428d-98df-6884a535b2e9\">\n",
              "  <button class=\"colab-df-quickchart\" onclick=\"quickchart('df-5ee98657-b4eb-428d-98df-6884a535b2e9')\"\n",
              "            title=\"Suggest charts\"\n",
              "            style=\"display:none;\">\n",
              "\n",
              "<svg xmlns=\"http://www.w3.org/2000/svg\" height=\"24px\"viewBox=\"0 0 24 24\"\n",
              "     width=\"24px\">\n",
              "    <g>\n",
              "        <path d=\"M19 3H5c-1.1 0-2 .9-2 2v14c0 1.1.9 2 2 2h14c1.1 0 2-.9 2-2V5c0-1.1-.9-2-2-2zM9 17H7v-7h2v7zm4 0h-2V7h2v10zm4 0h-2v-4h2v4z\"/>\n",
              "    </g>\n",
              "</svg>\n",
              "  </button>\n",
              "\n",
              "<style>\n",
              "  .colab-df-quickchart {\n",
              "      --bg-color: #E8F0FE;\n",
              "      --fill-color: #1967D2;\n",
              "      --hover-bg-color: #E2EBFA;\n",
              "      --hover-fill-color: #174EA6;\n",
              "      --disabled-fill-color: #AAA;\n",
              "      --disabled-bg-color: #DDD;\n",
              "  }\n",
              "\n",
              "  [theme=dark] .colab-df-quickchart {\n",
              "      --bg-color: #3B4455;\n",
              "      --fill-color: #D2E3FC;\n",
              "      --hover-bg-color: #434B5C;\n",
              "      --hover-fill-color: #FFFFFF;\n",
              "      --disabled-bg-color: #3B4455;\n",
              "      --disabled-fill-color: #666;\n",
              "  }\n",
              "\n",
              "  .colab-df-quickchart {\n",
              "    background-color: var(--bg-color);\n",
              "    border: none;\n",
              "    border-radius: 50%;\n",
              "    cursor: pointer;\n",
              "    display: none;\n",
              "    fill: var(--fill-color);\n",
              "    height: 32px;\n",
              "    padding: 0;\n",
              "    width: 32px;\n",
              "  }\n",
              "\n",
              "  .colab-df-quickchart:hover {\n",
              "    background-color: var(--hover-bg-color);\n",
              "    box-shadow: 0 1px 2px rgba(60, 64, 67, 0.3), 0 1px 3px 1px rgba(60, 64, 67, 0.15);\n",
              "    fill: var(--button-hover-fill-color);\n",
              "  }\n",
              "\n",
              "  .colab-df-quickchart-complete:disabled,\n",
              "  .colab-df-quickchart-complete:disabled:hover {\n",
              "    background-color: var(--disabled-bg-color);\n",
              "    fill: var(--disabled-fill-color);\n",
              "    box-shadow: none;\n",
              "  }\n",
              "\n",
              "  .colab-df-spinner {\n",
              "    border: 2px solid var(--fill-color);\n",
              "    border-color: transparent;\n",
              "    border-bottom-color: var(--fill-color);\n",
              "    animation:\n",
              "      spin 1s steps(1) infinite;\n",
              "  }\n",
              "\n",
              "  @keyframes spin {\n",
              "    0% {\n",
              "      border-color: transparent;\n",
              "      border-bottom-color: var(--fill-color);\n",
              "      border-left-color: var(--fill-color);\n",
              "    }\n",
              "    20% {\n",
              "      border-color: transparent;\n",
              "      border-left-color: var(--fill-color);\n",
              "      border-top-color: var(--fill-color);\n",
              "    }\n",
              "    30% {\n",
              "      border-color: transparent;\n",
              "      border-left-color: var(--fill-color);\n",
              "      border-top-color: var(--fill-color);\n",
              "      border-right-color: var(--fill-color);\n",
              "    }\n",
              "    40% {\n",
              "      border-color: transparent;\n",
              "      border-right-color: var(--fill-color);\n",
              "      border-top-color: var(--fill-color);\n",
              "    }\n",
              "    60% {\n",
              "      border-color: transparent;\n",
              "      border-right-color: var(--fill-color);\n",
              "    }\n",
              "    80% {\n",
              "      border-color: transparent;\n",
              "      border-right-color: var(--fill-color);\n",
              "      border-bottom-color: var(--fill-color);\n",
              "    }\n",
              "    90% {\n",
              "      border-color: transparent;\n",
              "      border-bottom-color: var(--fill-color);\n",
              "    }\n",
              "  }\n",
              "</style>\n",
              "\n",
              "  <script>\n",
              "    async function quickchart(key) {\n",
              "      const quickchartButtonEl =\n",
              "        document.querySelector('#' + key + ' button');\n",
              "      quickchartButtonEl.disabled = true;  // To prevent multiple clicks.\n",
              "      quickchartButtonEl.classList.add('colab-df-spinner');\n",
              "      try {\n",
              "        const charts = await google.colab.kernel.invokeFunction(\n",
              "            'suggestCharts', [key], {});\n",
              "      } catch (error) {\n",
              "        console.error('Error during call to suggestCharts:', error);\n",
              "      }\n",
              "      quickchartButtonEl.classList.remove('colab-df-spinner');\n",
              "      quickchartButtonEl.classList.add('colab-df-quickchart-complete');\n",
              "    }\n",
              "    (() => {\n",
              "      let quickchartButtonEl =\n",
              "        document.querySelector('#df-5ee98657-b4eb-428d-98df-6884a535b2e9 button');\n",
              "      quickchartButtonEl.style.display =\n",
              "        google.colab.kernel.accessAllowed ? 'block' : 'none';\n",
              "    })();\n",
              "  </script>\n",
              "</div>\n",
              "\n",
              "    </div>\n",
              "  </div>\n"
            ]
          },
          "metadata": {},
          "execution_count": 72
        }
      ]
    },
    {
      "cell_type": "markdown",
      "source": [
        " - Quais são as 5 cidades com a menor PIB per capita da região nordeste?"
      ],
      "metadata": {
        "id": "3cPkHb7_nvJz"
      }
    },
    {
      "cell_type": "code",
      "source": [
        "#Filtra a regiao nordeste\n",
        "nordeste_df = brasil_df[brasil_df['regiao'] == 'NORDESTE']\n",
        "\n",
        "#ordena o dataframe pelo PIB por capital em ordem crescente\n",
        "menor_pib_per_capita = nordeste_df.sort_values('PIB_percapita', ascending = True).head(5)\n",
        "\n",
        "#Resultado\n",
        "menor_pib_per_capita[['nome', 'PIB_percapita']]"
      ],
      "metadata": {
        "id": "l46wRWEAnvvf",
        "colab": {
          "base_uri": "https://localhost:8080/",
          "height": 206
        },
        "outputId": "71957025-f758-4908-c3b0-222f89fbd45c"
      },
      "execution_count": null,
      "outputs": [
        {
          "output_type": "execute_result",
          "data": {
            "text/plain": [
              "                    nome  PIB_percapita\n",
              "4464  São Vicente Ferrer    1929.969971\n",
              "4359             Cajapió    2203.830078\n",
              "1848       Dom Inocêncio    2358.239990\n",
              "4483            Timbiras    2368.159912\n",
              "4380               Axixá    2416.969971"
            ],
            "text/html": [
              "\n",
              "  <div id=\"df-9b04d381-d915-4222-9dd6-7e07f5782601\" class=\"colab-df-container\">\n",
              "    <div>\n",
              "<style scoped>\n",
              "    .dataframe tbody tr th:only-of-type {\n",
              "        vertical-align: middle;\n",
              "    }\n",
              "\n",
              "    .dataframe tbody tr th {\n",
              "        vertical-align: top;\n",
              "    }\n",
              "\n",
              "    .dataframe thead th {\n",
              "        text-align: right;\n",
              "    }\n",
              "</style>\n",
              "<table border=\"1\" class=\"dataframe\">\n",
              "  <thead>\n",
              "    <tr style=\"text-align: right;\">\n",
              "      <th></th>\n",
              "      <th>nome</th>\n",
              "      <th>PIB_percapita</th>\n",
              "    </tr>\n",
              "  </thead>\n",
              "  <tbody>\n",
              "    <tr>\n",
              "      <th>4464</th>\n",
              "      <td>São Vicente Ferrer</td>\n",
              "      <td>1929.969971</td>\n",
              "    </tr>\n",
              "    <tr>\n",
              "      <th>4359</th>\n",
              "      <td>Cajapió</td>\n",
              "      <td>2203.830078</td>\n",
              "    </tr>\n",
              "    <tr>\n",
              "      <th>1848</th>\n",
              "      <td>Dom Inocêncio</td>\n",
              "      <td>2358.239990</td>\n",
              "    </tr>\n",
              "    <tr>\n",
              "      <th>4483</th>\n",
              "      <td>Timbiras</td>\n",
              "      <td>2368.159912</td>\n",
              "    </tr>\n",
              "    <tr>\n",
              "      <th>4380</th>\n",
              "      <td>Axixá</td>\n",
              "      <td>2416.969971</td>\n",
              "    </tr>\n",
              "  </tbody>\n",
              "</table>\n",
              "</div>\n",
              "    <div class=\"colab-df-buttons\">\n",
              "\n",
              "  <div class=\"colab-df-container\">\n",
              "    <button class=\"colab-df-convert\" onclick=\"convertToInteractive('df-9b04d381-d915-4222-9dd6-7e07f5782601')\"\n",
              "            title=\"Convert this dataframe to an interactive table.\"\n",
              "            style=\"display:none;\">\n",
              "\n",
              "  <svg xmlns=\"http://www.w3.org/2000/svg\" height=\"24px\" viewBox=\"0 -960 960 960\">\n",
              "    <path d=\"M120-120v-720h720v720H120Zm60-500h600v-160H180v160Zm220 220h160v-160H400v160Zm0 220h160v-160H400v160ZM180-400h160v-160H180v160Zm440 0h160v-160H620v160ZM180-180h160v-160H180v160Zm440 0h160v-160H620v160Z\"/>\n",
              "  </svg>\n",
              "    </button>\n",
              "\n",
              "  <style>\n",
              "    .colab-df-container {\n",
              "      display:flex;\n",
              "      gap: 12px;\n",
              "    }\n",
              "\n",
              "    .colab-df-convert {\n",
              "      background-color: #E8F0FE;\n",
              "      border: none;\n",
              "      border-radius: 50%;\n",
              "      cursor: pointer;\n",
              "      display: none;\n",
              "      fill: #1967D2;\n",
              "      height: 32px;\n",
              "      padding: 0 0 0 0;\n",
              "      width: 32px;\n",
              "    }\n",
              "\n",
              "    .colab-df-convert:hover {\n",
              "      background-color: #E2EBFA;\n",
              "      box-shadow: 0px 1px 2px rgba(60, 64, 67, 0.3), 0px 1px 3px 1px rgba(60, 64, 67, 0.15);\n",
              "      fill: #174EA6;\n",
              "    }\n",
              "\n",
              "    .colab-df-buttons div {\n",
              "      margin-bottom: 4px;\n",
              "    }\n",
              "\n",
              "    [theme=dark] .colab-df-convert {\n",
              "      background-color: #3B4455;\n",
              "      fill: #D2E3FC;\n",
              "    }\n",
              "\n",
              "    [theme=dark] .colab-df-convert:hover {\n",
              "      background-color: #434B5C;\n",
              "      box-shadow: 0px 1px 3px 1px rgba(0, 0, 0, 0.15);\n",
              "      filter: drop-shadow(0px 1px 2px rgba(0, 0, 0, 0.3));\n",
              "      fill: #FFFFFF;\n",
              "    }\n",
              "  </style>\n",
              "\n",
              "    <script>\n",
              "      const buttonEl =\n",
              "        document.querySelector('#df-9b04d381-d915-4222-9dd6-7e07f5782601 button.colab-df-convert');\n",
              "      buttonEl.style.display =\n",
              "        google.colab.kernel.accessAllowed ? 'block' : 'none';\n",
              "\n",
              "      async function convertToInteractive(key) {\n",
              "        const element = document.querySelector('#df-9b04d381-d915-4222-9dd6-7e07f5782601');\n",
              "        const dataTable =\n",
              "          await google.colab.kernel.invokeFunction('convertToInteractive',\n",
              "                                                    [key], {});\n",
              "        if (!dataTable) return;\n",
              "\n",
              "        const docLinkHtml = 'Like what you see? Visit the ' +\n",
              "          '<a target=\"_blank\" href=https://colab.research.google.com/notebooks/data_table.ipynb>data table notebook</a>'\n",
              "          + ' to learn more about interactive tables.';\n",
              "        element.innerHTML = '';\n",
              "        dataTable['output_type'] = 'display_data';\n",
              "        await google.colab.output.renderOutput(dataTable, element);\n",
              "        const docLink = document.createElement('div');\n",
              "        docLink.innerHTML = docLinkHtml;\n",
              "        element.appendChild(docLink);\n",
              "      }\n",
              "    </script>\n",
              "  </div>\n",
              "\n",
              "\n",
              "<div id=\"df-ce0ee598-80d0-420a-866e-49686aa5915b\">\n",
              "  <button class=\"colab-df-quickchart\" onclick=\"quickchart('df-ce0ee598-80d0-420a-866e-49686aa5915b')\"\n",
              "            title=\"Suggest charts\"\n",
              "            style=\"display:none;\">\n",
              "\n",
              "<svg xmlns=\"http://www.w3.org/2000/svg\" height=\"24px\"viewBox=\"0 0 24 24\"\n",
              "     width=\"24px\">\n",
              "    <g>\n",
              "        <path d=\"M19 3H5c-1.1 0-2 .9-2 2v14c0 1.1.9 2 2 2h14c1.1 0 2-.9 2-2V5c0-1.1-.9-2-2-2zM9 17H7v-7h2v7zm4 0h-2V7h2v10zm4 0h-2v-4h2v4z\"/>\n",
              "    </g>\n",
              "</svg>\n",
              "  </button>\n",
              "\n",
              "<style>\n",
              "  .colab-df-quickchart {\n",
              "      --bg-color: #E8F0FE;\n",
              "      --fill-color: #1967D2;\n",
              "      --hover-bg-color: #E2EBFA;\n",
              "      --hover-fill-color: #174EA6;\n",
              "      --disabled-fill-color: #AAA;\n",
              "      --disabled-bg-color: #DDD;\n",
              "  }\n",
              "\n",
              "  [theme=dark] .colab-df-quickchart {\n",
              "      --bg-color: #3B4455;\n",
              "      --fill-color: #D2E3FC;\n",
              "      --hover-bg-color: #434B5C;\n",
              "      --hover-fill-color: #FFFFFF;\n",
              "      --disabled-bg-color: #3B4455;\n",
              "      --disabled-fill-color: #666;\n",
              "  }\n",
              "\n",
              "  .colab-df-quickchart {\n",
              "    background-color: var(--bg-color);\n",
              "    border: none;\n",
              "    border-radius: 50%;\n",
              "    cursor: pointer;\n",
              "    display: none;\n",
              "    fill: var(--fill-color);\n",
              "    height: 32px;\n",
              "    padding: 0;\n",
              "    width: 32px;\n",
              "  }\n",
              "\n",
              "  .colab-df-quickchart:hover {\n",
              "    background-color: var(--hover-bg-color);\n",
              "    box-shadow: 0 1px 2px rgba(60, 64, 67, 0.3), 0 1px 3px 1px rgba(60, 64, 67, 0.15);\n",
              "    fill: var(--button-hover-fill-color);\n",
              "  }\n",
              "\n",
              "  .colab-df-quickchart-complete:disabled,\n",
              "  .colab-df-quickchart-complete:disabled:hover {\n",
              "    background-color: var(--disabled-bg-color);\n",
              "    fill: var(--disabled-fill-color);\n",
              "    box-shadow: none;\n",
              "  }\n",
              "\n",
              "  .colab-df-spinner {\n",
              "    border: 2px solid var(--fill-color);\n",
              "    border-color: transparent;\n",
              "    border-bottom-color: var(--fill-color);\n",
              "    animation:\n",
              "      spin 1s steps(1) infinite;\n",
              "  }\n",
              "\n",
              "  @keyframes spin {\n",
              "    0% {\n",
              "      border-color: transparent;\n",
              "      border-bottom-color: var(--fill-color);\n",
              "      border-left-color: var(--fill-color);\n",
              "    }\n",
              "    20% {\n",
              "      border-color: transparent;\n",
              "      border-left-color: var(--fill-color);\n",
              "      border-top-color: var(--fill-color);\n",
              "    }\n",
              "    30% {\n",
              "      border-color: transparent;\n",
              "      border-left-color: var(--fill-color);\n",
              "      border-top-color: var(--fill-color);\n",
              "      border-right-color: var(--fill-color);\n",
              "    }\n",
              "    40% {\n",
              "      border-color: transparent;\n",
              "      border-right-color: var(--fill-color);\n",
              "      border-top-color: var(--fill-color);\n",
              "    }\n",
              "    60% {\n",
              "      border-color: transparent;\n",
              "      border-right-color: var(--fill-color);\n",
              "    }\n",
              "    80% {\n",
              "      border-color: transparent;\n",
              "      border-right-color: var(--fill-color);\n",
              "      border-bottom-color: var(--fill-color);\n",
              "    }\n",
              "    90% {\n",
              "      border-color: transparent;\n",
              "      border-bottom-color: var(--fill-color);\n",
              "    }\n",
              "  }\n",
              "</style>\n",
              "\n",
              "  <script>\n",
              "    async function quickchart(key) {\n",
              "      const quickchartButtonEl =\n",
              "        document.querySelector('#' + key + ' button');\n",
              "      quickchartButtonEl.disabled = true;  // To prevent multiple clicks.\n",
              "      quickchartButtonEl.classList.add('colab-df-spinner');\n",
              "      try {\n",
              "        const charts = await google.colab.kernel.invokeFunction(\n",
              "            'suggestCharts', [key], {});\n",
              "      } catch (error) {\n",
              "        console.error('Error during call to suggestCharts:', error);\n",
              "      }\n",
              "      quickchartButtonEl.classList.remove('colab-df-spinner');\n",
              "      quickchartButtonEl.classList.add('colab-df-quickchart-complete');\n",
              "    }\n",
              "    (() => {\n",
              "      let quickchartButtonEl =\n",
              "        document.querySelector('#df-ce0ee598-80d0-420a-866e-49686aa5915b button');\n",
              "      quickchartButtonEl.style.display =\n",
              "        google.colab.kernel.accessAllowed ? 'block' : 'none';\n",
              "    })();\n",
              "  </script>\n",
              "</div>\n",
              "\n",
              "    </div>\n",
              "  </div>\n"
            ]
          },
          "metadata": {},
          "execution_count": 73
        }
      ]
    },
    {
      "cell_type": "markdown",
      "source": [
        " - Quais são as 15 cidades com maior PIB do estado de São Paulo?"
      ],
      "metadata": {
        "id": "czyY8lnMss9S"
      }
    },
    {
      "cell_type": "code",
      "source": [
        "# Filtra as cidades do estado de São Paulo\n",
        "sao_paulo_df = brasil_df[brasil_df['sigla'] == 'SP']\n",
        "\n",
        "# Ordena o dataframe pelo PIB em ordem decrescente\n",
        "maior_pib_sao_paulo = sao_paulo_df.sort_values('PIB', ascending=False).head(15)\n",
        "\n",
        "# Resultado\n",
        "maior_pib_sao_paulo[['nome', 'PIB']]"
      ],
      "metadata": {
        "id": "ZAMs5uSF1ZTO",
        "colab": {
          "base_uri": "https://localhost:8080/",
          "height": 520
        },
        "outputId": "6717e9ee-8f8a-4f86-895d-f046d2b67a1b"
      },
      "execution_count": 83,
      "outputs": [
        {
          "output_type": "execute_result",
          "data": {
            "text/plain": [
              "                       nome          PIB\n",
              "3271              São Paulo  389317152.0\n",
              "3223              Guarulhos   32473828.0\n",
              "3340               Campinas   31654720.0\n",
              "3106                 Osasco   31616452.0\n",
              "2810  São Bernardo do Campo   28935768.0\n",
              "3344                Barueri   26908070.0\n",
              "2768                 Santos   22546134.0\n",
              "2994    São José dos Campos   22018042.0\n",
              "3014                Jundiaí   16585137.0\n",
              "2816            Santo André   14709603.0\n",
              "2754         Ribeirão Preto   14688064.0\n",
              "3152               Sorocaba   14182597.0\n",
              "3038                Diadema    9969819.0\n",
              "3334             Piracicaba    9601211.0\n",
              "2999     São Caetano do Sul    8920202.0"
            ],
            "text/html": [
              "\n",
              "  <div id=\"df-972b9a50-1c13-4328-975f-01bc5eef9874\" class=\"colab-df-container\">\n",
              "    <div>\n",
              "<style scoped>\n",
              "    .dataframe tbody tr th:only-of-type {\n",
              "        vertical-align: middle;\n",
              "    }\n",
              "\n",
              "    .dataframe tbody tr th {\n",
              "        vertical-align: top;\n",
              "    }\n",
              "\n",
              "    .dataframe thead th {\n",
              "        text-align: right;\n",
              "    }\n",
              "</style>\n",
              "<table border=\"1\" class=\"dataframe\">\n",
              "  <thead>\n",
              "    <tr style=\"text-align: right;\">\n",
              "      <th></th>\n",
              "      <th>nome</th>\n",
              "      <th>PIB</th>\n",
              "    </tr>\n",
              "  </thead>\n",
              "  <tbody>\n",
              "    <tr>\n",
              "      <th>3271</th>\n",
              "      <td>São Paulo</td>\n",
              "      <td>389317152.0</td>\n",
              "    </tr>\n",
              "    <tr>\n",
              "      <th>3223</th>\n",
              "      <td>Guarulhos</td>\n",
              "      <td>32473828.0</td>\n",
              "    </tr>\n",
              "    <tr>\n",
              "      <th>3340</th>\n",
              "      <td>Campinas</td>\n",
              "      <td>31654720.0</td>\n",
              "    </tr>\n",
              "    <tr>\n",
              "      <th>3106</th>\n",
              "      <td>Osasco</td>\n",
              "      <td>31616452.0</td>\n",
              "    </tr>\n",
              "    <tr>\n",
              "      <th>2810</th>\n",
              "      <td>São Bernardo do Campo</td>\n",
              "      <td>28935768.0</td>\n",
              "    </tr>\n",
              "    <tr>\n",
              "      <th>3344</th>\n",
              "      <td>Barueri</td>\n",
              "      <td>26908070.0</td>\n",
              "    </tr>\n",
              "    <tr>\n",
              "      <th>2768</th>\n",
              "      <td>Santos</td>\n",
              "      <td>22546134.0</td>\n",
              "    </tr>\n",
              "    <tr>\n",
              "      <th>2994</th>\n",
              "      <td>São José dos Campos</td>\n",
              "      <td>22018042.0</td>\n",
              "    </tr>\n",
              "    <tr>\n",
              "      <th>3014</th>\n",
              "      <td>Jundiaí</td>\n",
              "      <td>16585137.0</td>\n",
              "    </tr>\n",
              "    <tr>\n",
              "      <th>2816</th>\n",
              "      <td>Santo André</td>\n",
              "      <td>14709603.0</td>\n",
              "    </tr>\n",
              "    <tr>\n",
              "      <th>2754</th>\n",
              "      <td>Ribeirão Preto</td>\n",
              "      <td>14688064.0</td>\n",
              "    </tr>\n",
              "    <tr>\n",
              "      <th>3152</th>\n",
              "      <td>Sorocaba</td>\n",
              "      <td>14182597.0</td>\n",
              "    </tr>\n",
              "    <tr>\n",
              "      <th>3038</th>\n",
              "      <td>Diadema</td>\n",
              "      <td>9969819.0</td>\n",
              "    </tr>\n",
              "    <tr>\n",
              "      <th>3334</th>\n",
              "      <td>Piracicaba</td>\n",
              "      <td>9601211.0</td>\n",
              "    </tr>\n",
              "    <tr>\n",
              "      <th>2999</th>\n",
              "      <td>São Caetano do Sul</td>\n",
              "      <td>8920202.0</td>\n",
              "    </tr>\n",
              "  </tbody>\n",
              "</table>\n",
              "</div>\n",
              "    <div class=\"colab-df-buttons\">\n",
              "\n",
              "  <div class=\"colab-df-container\">\n",
              "    <button class=\"colab-df-convert\" onclick=\"convertToInteractive('df-972b9a50-1c13-4328-975f-01bc5eef9874')\"\n",
              "            title=\"Convert this dataframe to an interactive table.\"\n",
              "            style=\"display:none;\">\n",
              "\n",
              "  <svg xmlns=\"http://www.w3.org/2000/svg\" height=\"24px\" viewBox=\"0 -960 960 960\">\n",
              "    <path d=\"M120-120v-720h720v720H120Zm60-500h600v-160H180v160Zm220 220h160v-160H400v160Zm0 220h160v-160H400v160ZM180-400h160v-160H180v160Zm440 0h160v-160H620v160ZM180-180h160v-160H180v160Zm440 0h160v-160H620v160Z\"/>\n",
              "  </svg>\n",
              "    </button>\n",
              "\n",
              "  <style>\n",
              "    .colab-df-container {\n",
              "      display:flex;\n",
              "      gap: 12px;\n",
              "    }\n",
              "\n",
              "    .colab-df-convert {\n",
              "      background-color: #E8F0FE;\n",
              "      border: none;\n",
              "      border-radius: 50%;\n",
              "      cursor: pointer;\n",
              "      display: none;\n",
              "      fill: #1967D2;\n",
              "      height: 32px;\n",
              "      padding: 0 0 0 0;\n",
              "      width: 32px;\n",
              "    }\n",
              "\n",
              "    .colab-df-convert:hover {\n",
              "      background-color: #E2EBFA;\n",
              "      box-shadow: 0px 1px 2px rgba(60, 64, 67, 0.3), 0px 1px 3px 1px rgba(60, 64, 67, 0.15);\n",
              "      fill: #174EA6;\n",
              "    }\n",
              "\n",
              "    .colab-df-buttons div {\n",
              "      margin-bottom: 4px;\n",
              "    }\n",
              "\n",
              "    [theme=dark] .colab-df-convert {\n",
              "      background-color: #3B4455;\n",
              "      fill: #D2E3FC;\n",
              "    }\n",
              "\n",
              "    [theme=dark] .colab-df-convert:hover {\n",
              "      background-color: #434B5C;\n",
              "      box-shadow: 0px 1px 3px 1px rgba(0, 0, 0, 0.15);\n",
              "      filter: drop-shadow(0px 1px 2px rgba(0, 0, 0, 0.3));\n",
              "      fill: #FFFFFF;\n",
              "    }\n",
              "  </style>\n",
              "\n",
              "    <script>\n",
              "      const buttonEl =\n",
              "        document.querySelector('#df-972b9a50-1c13-4328-975f-01bc5eef9874 button.colab-df-convert');\n",
              "      buttonEl.style.display =\n",
              "        google.colab.kernel.accessAllowed ? 'block' : 'none';\n",
              "\n",
              "      async function convertToInteractive(key) {\n",
              "        const element = document.querySelector('#df-972b9a50-1c13-4328-975f-01bc5eef9874');\n",
              "        const dataTable =\n",
              "          await google.colab.kernel.invokeFunction('convertToInteractive',\n",
              "                                                    [key], {});\n",
              "        if (!dataTable) return;\n",
              "\n",
              "        const docLinkHtml = 'Like what you see? Visit the ' +\n",
              "          '<a target=\"_blank\" href=https://colab.research.google.com/notebooks/data_table.ipynb>data table notebook</a>'\n",
              "          + ' to learn more about interactive tables.';\n",
              "        element.innerHTML = '';\n",
              "        dataTable['output_type'] = 'display_data';\n",
              "        await google.colab.output.renderOutput(dataTable, element);\n",
              "        const docLink = document.createElement('div');\n",
              "        docLink.innerHTML = docLinkHtml;\n",
              "        element.appendChild(docLink);\n",
              "      }\n",
              "    </script>\n",
              "  </div>\n",
              "\n",
              "\n",
              "<div id=\"df-bfe1deab-bf1f-42c1-8dc2-5c7be4cb2f9e\">\n",
              "  <button class=\"colab-df-quickchart\" onclick=\"quickchart('df-bfe1deab-bf1f-42c1-8dc2-5c7be4cb2f9e')\"\n",
              "            title=\"Suggest charts\"\n",
              "            style=\"display:none;\">\n",
              "\n",
              "<svg xmlns=\"http://www.w3.org/2000/svg\" height=\"24px\"viewBox=\"0 0 24 24\"\n",
              "     width=\"24px\">\n",
              "    <g>\n",
              "        <path d=\"M19 3H5c-1.1 0-2 .9-2 2v14c0 1.1.9 2 2 2h14c1.1 0 2-.9 2-2V5c0-1.1-.9-2-2-2zM9 17H7v-7h2v7zm4 0h-2V7h2v10zm4 0h-2v-4h2v4z\"/>\n",
              "    </g>\n",
              "</svg>\n",
              "  </button>\n",
              "\n",
              "<style>\n",
              "  .colab-df-quickchart {\n",
              "      --bg-color: #E8F0FE;\n",
              "      --fill-color: #1967D2;\n",
              "      --hover-bg-color: #E2EBFA;\n",
              "      --hover-fill-color: #174EA6;\n",
              "      --disabled-fill-color: #AAA;\n",
              "      --disabled-bg-color: #DDD;\n",
              "  }\n",
              "\n",
              "  [theme=dark] .colab-df-quickchart {\n",
              "      --bg-color: #3B4455;\n",
              "      --fill-color: #D2E3FC;\n",
              "      --hover-bg-color: #434B5C;\n",
              "      --hover-fill-color: #FFFFFF;\n",
              "      --disabled-bg-color: #3B4455;\n",
              "      --disabled-fill-color: #666;\n",
              "  }\n",
              "\n",
              "  .colab-df-quickchart {\n",
              "    background-color: var(--bg-color);\n",
              "    border: none;\n",
              "    border-radius: 50%;\n",
              "    cursor: pointer;\n",
              "    display: none;\n",
              "    fill: var(--fill-color);\n",
              "    height: 32px;\n",
              "    padding: 0;\n",
              "    width: 32px;\n",
              "  }\n",
              "\n",
              "  .colab-df-quickchart:hover {\n",
              "    background-color: var(--hover-bg-color);\n",
              "    box-shadow: 0 1px 2px rgba(60, 64, 67, 0.3), 0 1px 3px 1px rgba(60, 64, 67, 0.15);\n",
              "    fill: var(--button-hover-fill-color);\n",
              "  }\n",
              "\n",
              "  .colab-df-quickchart-complete:disabled,\n",
              "  .colab-df-quickchart-complete:disabled:hover {\n",
              "    background-color: var(--disabled-bg-color);\n",
              "    fill: var(--disabled-fill-color);\n",
              "    box-shadow: none;\n",
              "  }\n",
              "\n",
              "  .colab-df-spinner {\n",
              "    border: 2px solid var(--fill-color);\n",
              "    border-color: transparent;\n",
              "    border-bottom-color: var(--fill-color);\n",
              "    animation:\n",
              "      spin 1s steps(1) infinite;\n",
              "  }\n",
              "\n",
              "  @keyframes spin {\n",
              "    0% {\n",
              "      border-color: transparent;\n",
              "      border-bottom-color: var(--fill-color);\n",
              "      border-left-color: var(--fill-color);\n",
              "    }\n",
              "    20% {\n",
              "      border-color: transparent;\n",
              "      border-left-color: var(--fill-color);\n",
              "      border-top-color: var(--fill-color);\n",
              "    }\n",
              "    30% {\n",
              "      border-color: transparent;\n",
              "      border-left-color: var(--fill-color);\n",
              "      border-top-color: var(--fill-color);\n",
              "      border-right-color: var(--fill-color);\n",
              "    }\n",
              "    40% {\n",
              "      border-color: transparent;\n",
              "      border-right-color: var(--fill-color);\n",
              "      border-top-color: var(--fill-color);\n",
              "    }\n",
              "    60% {\n",
              "      border-color: transparent;\n",
              "      border-right-color: var(--fill-color);\n",
              "    }\n",
              "    80% {\n",
              "      border-color: transparent;\n",
              "      border-right-color: var(--fill-color);\n",
              "      border-bottom-color: var(--fill-color);\n",
              "    }\n",
              "    90% {\n",
              "      border-color: transparent;\n",
              "      border-bottom-color: var(--fill-color);\n",
              "    }\n",
              "  }\n",
              "</style>\n",
              "\n",
              "  <script>\n",
              "    async function quickchart(key) {\n",
              "      const quickchartButtonEl =\n",
              "        document.querySelector('#' + key + ' button');\n",
              "      quickchartButtonEl.disabled = true;  // To prevent multiple clicks.\n",
              "      quickchartButtonEl.classList.add('colab-df-spinner');\n",
              "      try {\n",
              "        const charts = await google.colab.kernel.invokeFunction(\n",
              "            'suggestCharts', [key], {});\n",
              "      } catch (error) {\n",
              "        console.error('Error during call to suggestCharts:', error);\n",
              "      }\n",
              "      quickchartButtonEl.classList.remove('colab-df-spinner');\n",
              "      quickchartButtonEl.classList.add('colab-df-quickchart-complete');\n",
              "    }\n",
              "    (() => {\n",
              "      let quickchartButtonEl =\n",
              "        document.querySelector('#df-bfe1deab-bf1f-42c1-8dc2-5c7be4cb2f9e button');\n",
              "      quickchartButtonEl.style.display =\n",
              "        google.colab.kernel.accessAllowed ? 'block' : 'none';\n",
              "    })();\n",
              "  </script>\n",
              "</div>\n",
              "\n",
              "    </div>\n",
              "  </div>\n"
            ]
          },
          "metadata": {},
          "execution_count": 83
        }
      ]
    },
    {
      "cell_type": "markdown",
      "source": [
        " - Qual é o PIB do estado de Santa Catarina?"
      ],
      "metadata": {
        "id": "2j0eubM72PKx"
      }
    },
    {
      "cell_type": "code",
      "source": [
        "#filtra Santa Catarina\n",
        "santa_catarina_pib = brasil_df.loc[brasil_df['estado'] == 'SANTA CATARINA', 'PIB']\n",
        "\n",
        "print(f\"Pib de Santa Catarina: {santa_catarina_pib.values[0]}\")"
      ],
      "metadata": {
        "id": "xsN7BHWp2OkQ",
        "colab": {
          "base_uri": "https://localhost:8080/"
        },
        "outputId": "426e559b-42de-478c-e363-2dd8cbd46494"
      },
      "execution_count": null,
      "outputs": [
        {
          "output_type": "stream",
          "name": "stdout",
          "text": [
            "Pib de Santa Catarina: 364577.8125\n"
          ]
        }
      ]
    },
    {
      "cell_type": "markdown",
      "source": [
        " - Qual é o população da região sul?"
      ],
      "metadata": {
        "id": "oF0tYdqy3f6p"
      }
    },
    {
      "cell_type": "code",
      "source": [
        "#Filtra regiao sul\n",
        "populacao_regia_sul = brasil_df.loc[brasil_df['regiao'] == 'SUL', 'Pop_est_2009']\n",
        "\n",
        "# Resultado\n",
        "print(f'População da região sul: {populacao_regia_sul.sum()}')"
      ],
      "metadata": {
        "id": "W2PjCnNi3mJL",
        "colab": {
          "base_uri": "https://localhost:8080/"
        },
        "outputId": "fc4c67c0-c885-4d63-a741-bd2aa0662a03"
      },
      "execution_count": null,
      "outputs": [
        {
          "output_type": "stream",
          "name": "stdout",
          "text": [
            "População da região sul: 27719118\n"
          ]
        }
      ]
    },
    {
      "cell_type": "markdown",
      "source": [
        " - Qual é o PIB per capito médio das cidades do Mato Grosso do Sul?"
      ],
      "metadata": {
        "id": "nKO5hRNb3iPD"
      }
    },
    {
      "cell_type": "code",
      "source": [
        "#Filtra as linhas de Mato Grosso do Sul\n",
        "ms_pib_per_capita = brasil_df.loc[brasil_df['sigla'] == 'MS', 'PIB_percapita']\n",
        "\n",
        "#Calculo da média\n",
        "media_pib_per_capita_ms = ms_pib_per_capita.mean()\n",
        "\n",
        "#resultado\n",
        "print(f'Pip per capita médio do Mato Grosso do Sul: {media_pib_per_capita_ms}')"
      ],
      "metadata": {
        "id": "5McuLd0v3l26",
        "colab": {
          "base_uri": "https://localhost:8080/"
        },
        "outputId": "44b34b7d-9a22-4c63-e35b-2085d74f830c"
      },
      "execution_count": null,
      "outputs": [
        {
          "output_type": "stream",
          "name": "stdout",
          "text": [
            "Pip per capita médio do Mato Grosso do Sul: 14458.896859975644\n"
          ]
        }
      ]
    },
    {
      "cell_type": "markdown",
      "source": [
        " - Qual é a população do Brasil?"
      ],
      "metadata": {
        "id": "E3r75Txs3j7V"
      }
    },
    {
      "cell_type": "code",
      "source": [
        "populacao_brasil = brasil_df['Pop_est_2009'].sum()\n",
        "\n",
        "print(f'População do Brasil: {populacao_brasil}')"
      ],
      "metadata": {
        "id": "clNQCVKD3mg0",
        "colab": {
          "base_uri": "https://localhost:8080/"
        },
        "outputId": "f6d70715-3596-4c44-dd54-b05d7a60d5c2"
      },
      "execution_count": null,
      "outputs": [
        {
          "output_type": "stream",
          "name": "stdout",
          "text": [
            "População do Brasil: 191176146\n"
          ]
        }
      ]
    },
    {
      "cell_type": "markdown",
      "source": [
        "# **2.3. Visualização**"
      ],
      "metadata": {
        "id": "Rho4Vor93nyB"
      }
    },
    {
      "cell_type": "markdown",
      "source": [
        " - Gere um gráfico de barras com as 10 cidades menos populosas do Brasil."
      ],
      "metadata": {
        "id": "qPUmY0_U3tEU"
      }
    },
    {
      "cell_type": "code",
      "source": [
        "import matplotlib.pyplot as plt"
      ],
      "metadata": {
        "id": "1tpJcRbKpuWs"
      },
      "execution_count": null,
      "outputs": []
    },
    {
      "cell_type": "code",
      "source": [
        "#Fitras o dataframe com as 10 menores cidades\n",
        "cidades_menos_populosas = brasil_df.sort_values('Pop_est_2009', ascending = True).head(10)\n",
        "\n",
        "#criando um grafico\n",
        "plt.figure(figsize=(10, 8))\n",
        "plt.bar(cidades_menos_populosas['nome'], cidades_menos_populosas['Pop_est_2009'], color = 'deepskyblue')\n",
        "plt.title('Cidades menos populosas 2009')\n",
        "plt.xlabel('Cidade')\n",
        "plt.ylabel('População')\n",
        "#Rotacionar os titulos para melhor legibilidade\n",
        "plt.xticks(rotation = 90, ha = 'right')\n",
        "#Evitar que sobreponham um do outro\n",
        "plt.tight_layout()\n",
        "\n",
        "plt.show()"
      ],
      "metadata": {
        "id": "dh49rLvm306Q",
        "colab": {
          "base_uri": "https://localhost:8080/",
          "height": 807
        },
        "outputId": "b70bb6d8-0d13-4f07-f6d1-dcd58a378ba4"
      },
      "execution_count": null,
      "outputs": [
        {
          "output_type": "display_data",
          "data": {
            "text/plain": [
              "<Figure size 1000x800 with 1 Axes>"
            ],
            "image/png": "[encoded data removed]"
          },
          "metadata": {}
        }
      ]
    },
    {
      "cell_type": "markdown",
      "source": [
        " - Gere um gráfico de pizza com a proporção da população do Brasil por região."
      ],
      "metadata": {
        "id": "gR1rvy113zX1"
      }
    },
    {
      "cell_type": "code",
      "source": [
        "import seaborn as sns"
      ],
      "metadata": {
        "id": "H_TEw_p4soaI"
      },
      "execution_count": null,
      "outputs": []
    },
    {
      "cell_type": "code",
      "source": [
        "#df filtrado com a proporção do população do Brasil\n",
        "populacao_por_regiao = brasil_df.groupby('regiao')['Pop_est_2009'].sum().reset_index()\n",
        "\n",
        "#Criando o grafico\n",
        "plt.figure(figsize=(8, 8))\n",
        "plt.title('Cidades menos populosas 2009')\n",
        "#função autopct adiciona % no grafico\n",
        "plt.pie(populacao_por_regiao['Pop_est_2009'], labels= populacao_por_regiao['regiao'], autopct = '%1.1f%%', startangle=90,colors = sns.color_palette('Paired'))\n",
        "\n",
        "plt.show()"
      ],
      "metadata": {
        "colab": {
          "base_uri": "https://localhost:8080/",
          "height": 675
        },
        "id": "toZvxvu1plZG",
        "outputId": "108c4700-e3b8-4b6c-df26-7b0bd6cb7e42"
      },
      "execution_count": null,
      "outputs": [
        {
          "output_type": "display_data",
          "data": {
            "text/plain": [
              "<Figure size 800x800 with 1 Axes>"
            ],
            "image/png": "[encoded data removed]"
          },
          "metadata": {}
        }
      ]
    }
  ]
}